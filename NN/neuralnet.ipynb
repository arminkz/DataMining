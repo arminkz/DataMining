{
 "cells": [
  {
   "cell_type": "code",
   "execution_count": 1,
   "metadata": {},
   "outputs": [
    {
     "name": "stdout",
     "output_type": "stream",
     "text": [
      "Original dataset shape Counter({1: 357, 0: 212})\n",
      "Resampled dataset shape Counter({0: 212, 1: 212})\n"
     ]
    }
   ],
   "source": [
    "from collections import Counter\n",
    "from sklearn.datasets import load_breast_cancer\n",
    "from imblearn.under_sampling import RandomUnderSampler\n",
    "\n",
    "X,y = load_breast_cancer(True)\n",
    "\n",
    "#Fix class imbalance with under sampling\n",
    "rus = RandomUnderSampler()\n",
    "Xb,yb = rus.fit_resample(X, y)\n",
    "\n",
    "print('Original dataset shape %s' % Counter(y))\n",
    "print('Resampled dataset shape %s' % Counter(yb))"
   ]
  },
  {
   "cell_type": "code",
   "execution_count": 2,
   "metadata": {},
   "outputs": [],
   "source": [
    "X,y = Xb,yb\n",
    "\n",
    "#scale data into [0,1] range\n",
    "from sklearn import preprocessing\n",
    "mms = preprocessing.MinMaxScaler()\n",
    "Xs = mms.fit_transform(X)"
   ]
  },
  {
   "cell_type": "code",
   "execution_count": 3,
   "metadata": {},
   "outputs": [
    {
     "name": "stdout",
     "output_type": "stream",
     "text": [
      "Test :  (85, 30) (85,)\n",
      "Train :  (339, 30) (339,)\n"
     ]
    }
   ],
   "source": [
    "X = Xs\n",
    "\n",
    "#split data into train / test\n",
    "from sklearn.model_selection import train_test_split\n",
    "X_train, X_test, y_train, y_test = train_test_split(X, y, test_size=0.2, random_state=0)\n",
    "\n",
    "\n",
    "print(\"Test : \",X_test.shape,y_test.shape)\n",
    "print(\"Train : \",X_train.shape,y_train.shape)"
   ]
  },
  {
   "cell_type": "code",
   "execution_count": 7,
   "metadata": {},
   "outputs": [],
   "source": [
    "import numpy as np\n",
    "\n",
    "class dlnet:\n",
    "    def __init__(self, x, y):\n",
    "        self.X=x\n",
    "        self.Y=y\n",
    "        self.Yh=np.zeros((1,self.Y.shape[1]))\n",
    "        \n",
    "        self.n_layer=2 #number of layers\n",
    "        self.dims = [9, 15, 1] #size of each layer \n",
    "        self.param = {} #used to store weights\n",
    "        self.temp = {}  #used to store temp values\n",
    "        self.grad = {}\n",
    "        self.loss = []\n",
    "        self.lr=0.003\n",
    "        self.sam = self.Y.shape[1]\n",
    "        \n",
    "    def nInit(self):    \n",
    "        np.random.seed(1)\n",
    "        self.param['W1'] = np.random.randn(self.dims[1], self.dims[0]) / np.sqrt(self.dims[0]) \n",
    "        self.param['b1'] = np.zeros((self.dims[1], 1))        \n",
    "        self.param['W2'] = np.random.randn(self.dims[2], self.dims[1]) / np.sqrt(self.dims[1]) \n",
    "        self.param['b2'] = np.zeros((self.dims[2], 1))                \n",
    "        return\n",
    "    \n",
    "    #Activation Functions\n",
    "    def Sigmoid(Z):\n",
    "        return 1/(1+np.exp(-Z))\n",
    "    \n",
    "    def Relu(Z):\n",
    "        return np.maximum(0,Z)\n",
    "    \n",
    "    def Tanh(Z):\n",
    "        return np.tanh(Z)\n",
    "    \n",
    "    #Feed Forward\n",
    "    def forward(self):    \n",
    "        Z1 = self.param['W1'].dot(self.X) + self.param['b1'] \n",
    "        A1 = Relu(Z1)\n",
    "        self.temp['Z1']=Z1\n",
    "        self.temp['A1']=A1\n",
    "        \n",
    "        Z2 = self.param['W2'].dot(A1) + self.param['b2']  \n",
    "        A2 = Sigmoid(Z2)\n",
    "        self.ch['Z2']=Z2\n",
    "        self.ch['A2']=A2\n",
    "        self.Yh=A2\n",
    "        loss=self.nloss(A2)\n",
    "        return self.Yh, loss\n",
    "    \n",
    "    #Cross Entropy Loss Function\n",
    "    def nloss(self,Yh):\n",
    "        loss = (1./self.sam) * (-np.dot(self.Y,np.log(Yh).T) - np.dot(1-self.Y, np.log(1-Yh).T))    \n",
    "        return loss\n",
    "    \n",
    "    #Sum of Squared Error Loss Function\n",
    "    def sseloss(self,Yh):\n",
    "        squared_errors = (self.Yh - self.Y) ** 2\n",
    "        loss = np.sum(squared_errors)\n",
    "        return loss\n",
    "    \n",
    "    #Derivative of Activation Functions\n",
    "    def dRelu(x):\n",
    "        x[x<=0] = 0\n",
    "        x[x>0] = 1\n",
    "        return x\n",
    "    \n",
    "    def dSigmoid(Z):\n",
    "        s = 1/(1+np.exp(-Z))\n",
    "        dZ = s * (1-s)\n",
    "        return dZ\n",
    "    \n",
    "    #Back propagation\n",
    "    def backward(self):\n",
    "        dLoss_Yh = - (np.divide(self.Y, self.Yh ) - np.divide(1 - self.Y, 1 - self.Yh))    \n",
    "        \n",
    "        dLoss_Z2 = dLoss_Yh * dSigmoid(self.temp['Z2'])    \n",
    "        dLoss_A1 = np.dot(self.param[\"W2\"].T,dLoss_Z2)\n",
    "        dLoss_W2 = 1./self.temp['A1'].shape[1] * np.dot(dLoss_Z2,self.temp['A1'].T)\n",
    "        dLoss_b2 = 1./self.temp['A1'].shape[1] * np.dot(dLoss_Z2, np.ones([dLoss_Z2.shape[1],1])) \n",
    "                            \n",
    "        dLoss_Z1 = dLoss_A1 * dRelu(self.ch['Z1'])        \n",
    "        dLoss_A0 = np.dot(self.param[\"W1\"].T,dLoss_Z1)\n",
    "        dLoss_W1 = 1./self.X.shape[1] * np.dot(dLoss_Z1,self.X.T)\n",
    "        dLoss_b1 = 1./self.X.shape[1] * np.dot(dLoss_Z1, np.ones([dLoss_Z1.shape[1],1]))  \n",
    "        \n",
    "        self.param[\"W1\"] = self.param[\"W1\"] - self.lr * dLoss_W1\n",
    "        self.param[\"b1\"] = self.param[\"b1\"] - self.lr * dLoss_b1\n",
    "        self.param[\"W2\"] = self.param[\"W2\"] - self.lr * dLoss_W2\n",
    "        self.param[\"b2\"] = self.param[\"b2\"] - self.lr * dLoss_b2\n",
    "    \n",
    "    #Gradient descent\n",
    "    def gd(self,X, Y, iter = 3000):\n",
    "        np.random.seed(1)                         \n",
    "    \n",
    "        self.nInit()\n",
    "    \n",
    "        for i in range(0, iter):\n",
    "            Yh, loss=self.forward()\n",
    "            self.backward()\n",
    "        \n",
    "            if i % 500 == 0:\n",
    "                print (\"Cost after iteration %i: %f\" %(i, loss))\n",
    "                self.loss.append(loss)\n",
    "    \n",
    "        return"
   ]
  },
  {
   "cell_type": "code",
   "execution_count": 11,
   "metadata": {},
   "outputs": [
    {
     "ename": "IndexError",
     "evalue": "tuple index out of range",
     "output_type": "error",
     "traceback": [
      "\u001b[0;31m---------------------------------------------------------------------------\u001b[0m",
      "\u001b[0;31mIndexError\u001b[0m                                Traceback (most recent call last)",
      "\u001b[0;32m<ipython-input-11-2a13a50248bf>\u001b[0m in \u001b[0;36m<module>\u001b[0;34m()\u001b[0m\n\u001b[0;32m----> 1\u001b[0;31m \u001b[0mnn\u001b[0m \u001b[0;34m=\u001b[0m \u001b[0mdlnet\u001b[0m\u001b[0;34m(\u001b[0m\u001b[0mX_train\u001b[0m\u001b[0;34m,\u001b[0m\u001b[0my_train\u001b[0m\u001b[0;34m)\u001b[0m\u001b[0;34m\u001b[0m\u001b[0m\n\u001b[0m\u001b[1;32m      2\u001b[0m \u001b[0mnn\u001b[0m\u001b[0;34m.\u001b[0m\u001b[0mgd\u001b[0m\u001b[0;34m(\u001b[0m\u001b[0mX_train\u001b[0m\u001b[0;34m,\u001b[0m \u001b[0my_train\u001b[0m\u001b[0;34m,\u001b[0m \u001b[0miter\u001b[0m \u001b[0;34m=\u001b[0m \u001b[0;36m15000\u001b[0m\u001b[0;34m)\u001b[0m\u001b[0;34m\u001b[0m\u001b[0m\n\u001b[1;32m      3\u001b[0m \u001b[0;31m#X_train.shape\u001b[0m\u001b[0;34m\u001b[0m\u001b[0;34m\u001b[0m\u001b[0m\n",
      "\u001b[0;32m<ipython-input-7-60ae9e7635d3>\u001b[0m in \u001b[0;36m__init__\u001b[0;34m(self, x, y)\u001b[0m\n\u001b[1;32m      5\u001b[0m         \u001b[0mself\u001b[0m\u001b[0;34m.\u001b[0m\u001b[0mX\u001b[0m\u001b[0;34m=\u001b[0m\u001b[0mx\u001b[0m\u001b[0;34m\u001b[0m\u001b[0m\n\u001b[1;32m      6\u001b[0m         \u001b[0mself\u001b[0m\u001b[0;34m.\u001b[0m\u001b[0mY\u001b[0m\u001b[0;34m=\u001b[0m\u001b[0my\u001b[0m\u001b[0;34m\u001b[0m\u001b[0m\n\u001b[0;32m----> 7\u001b[0;31m         \u001b[0mself\u001b[0m\u001b[0;34m.\u001b[0m\u001b[0mYh\u001b[0m\u001b[0;34m=\u001b[0m\u001b[0mnp\u001b[0m\u001b[0;34m.\u001b[0m\u001b[0mzeros\u001b[0m\u001b[0;34m(\u001b[0m\u001b[0;34m(\u001b[0m\u001b[0;36m1\u001b[0m\u001b[0;34m,\u001b[0m\u001b[0mself\u001b[0m\u001b[0;34m.\u001b[0m\u001b[0mY\u001b[0m\u001b[0;34m.\u001b[0m\u001b[0mshape\u001b[0m\u001b[0;34m[\u001b[0m\u001b[0;36m1\u001b[0m\u001b[0;34m]\u001b[0m\u001b[0;34m)\u001b[0m\u001b[0;34m)\u001b[0m\u001b[0;34m\u001b[0m\u001b[0m\n\u001b[0m\u001b[1;32m      8\u001b[0m \u001b[0;34m\u001b[0m\u001b[0m\n\u001b[1;32m      9\u001b[0m         \u001b[0mself\u001b[0m\u001b[0;34m.\u001b[0m\u001b[0mn_layer\u001b[0m\u001b[0;34m=\u001b[0m\u001b[0;36m2\u001b[0m \u001b[0;31m#number of layers\u001b[0m\u001b[0;34m\u001b[0m\u001b[0m\n",
      "\u001b[0;31mIndexError\u001b[0m: tuple index out of range"
     ]
    }
   ],
   "source": [
    "nn = dlnet(X_train,y_train)\n",
    "nn.gd(X_train, y_train, iter = 15000)\n",
    "#X_train.shape"
   ]
  },
  {
   "cell_type": "code",
   "execution_count": null,
   "metadata": {},
   "outputs": [],
   "source": []
  }
 ],
 "metadata": {
  "kernelspec": {
   "display_name": "Python 3",
   "language": "python",
   "name": "python3"
  },
  "language_info": {
   "codemirror_mode": {
    "name": "ipython",
    "version": 3
   },
   "file_extension": ".py",
   "mimetype": "text/x-python",
   "name": "python",
   "nbconvert_exporter": "python",
   "pygments_lexer": "ipython3",
   "version": "3.6.4"
  }
 },
 "nbformat": 4,
 "nbformat_minor": 2
}
